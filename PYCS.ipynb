{
 "cells": [
  {
   "cell_type": "markdown",
   "metadata": {},
   "source": [
    "## Data structures\n",
    "\n",
    "### List"
   ]
  },
  {
   "cell_type": "code",
   "execution_count": 10,
   "metadata": {},
   "outputs": [
    {
     "name": "stdout",
     "output_type": "stream",
     "text": [
      "[1, 2, 5] [3, 4, 6]\n",
      "Add: [1, 2, 5, 3, 4, 6]\n",
      "Sort: [1, 2, 3, 4, 5, 6]\n",
      "Reverse: [6, 5, 4, 3, 2, 1]\n"
     ]
    }
   ],
   "source": [
    "a = []  # Empty list\n",
    "\n",
    "a: list[int] = [1, 2]\n",
    "b: list[int] = [3, 4]\n",
    "a.append(5)\n",
    "b.append(6)\n",
    "print(a, b)\n",
    "\n",
    "a += b\n",
    "print(f\"Add: {a}\")\n",
    "\n",
    "a.sort()\n",
    "print(f\"Sort: {a}\")\n",
    "\n",
    "a.reverse()\n",
    "print(f\"Reverse: {a}\")"
   ]
  },
  {
   "cell_type": "markdown",
   "metadata": {},
   "source": [
    "### Dictionary"
   ]
  },
  {
   "cell_type": "code",
   "execution_count": 5,
   "metadata": {},
   "outputs": [
    {
     "name": "stdout",
     "output_type": "stream",
     "text": [
      "{'Italy': 'Pizza', 'US': 'Hot-Dog', 'China': 'Dim Sum'}\n",
      "dict_keys(['Italy', 'US', 'China'])\n",
      "dict_values(['Pizza', 'Hot-Dog', 'Dim Sum'])\n",
      "dict_items([('Italy', 'Pizza'), ('US', 'Hot-Dog'), ('China', 'Dim Sum')])\n",
      "Replace item: {'Italy': 'Pizza', 'US': 'Hot-Dog', 'China': 'Dumplings'}\n",
      "Read item: Dumplings\n",
      "Dictionary key doesn't exist\n",
      "{'Italy': 'Pizza', 'China': 'Dumplings'}\n",
      "{'US': 'Hot-Dog', 'China': 'Dumplings'}\n"
     ]
    }
   ],
   "source": [
    "d = {}  # Empty dictionary\n",
    "\n",
    "d: dict[str, str] = {\"Italy\": \"Pizza\", \"US\": \"Hot-Dog\", \"China\": \"Dim Sum\"}  # Creates a dictionary\n",
    "\n",
    "k = [\"Italy\", \"US\", \"China\"]  # Creates a dictionary from two collections\n",
    "v = [\"Pizza\", \"Hot-Dog\", \"Dim Sum\"]\n",
    "d = dict(zip(k, v))\n",
    "\n",
    "k = d.keys()  # Collection of keys that reflects changes\n",
    "v = d.values()  # Collection of values that reflects changes\n",
    "k_v = d.items()  # Collection of key-value tuples that reflects changes\n",
    "\n",
    "print(d)\n",
    "print(k)\n",
    "print(v)\n",
    "print(k_v)\n",
    "\n",
    "d.update({\"China\": \"Dumplings\"})  # Adds item or replace one with matching keys\n",
    "print(f\"Replace item: {d}\")\n",
    "\n",
    "c = d[\"China\"]  # Read value\n",
    "print(f\"Read item: {c}\")\n",
    "\n",
    "try:\n",
    "    v = d.pop(\"Spain\")  # Removes item or raises KeyError\n",
    "except KeyError:\n",
    "    print(\"Dictionary key doesn't exist\")\n",
    "\n",
    "b = {k: v for k, v in d.items() if \"a\" in k}  # Returns a dictionary, filtered by keys\n",
    "print(b)\n",
    "c = {k: v for k, v in d.items() if len(v) >= 7}  # Returns a dictionary, filtered by values\n",
    "print(c)"
   ]
  },
  {
   "cell_type": "markdown",
   "metadata": {},
   "source": [
    "### Tuple  \n",
    "Tuple is an immutable and hashable list"
   ]
  },
  {
   "cell_type": "code",
   "execution_count": 1,
   "metadata": {},
   "outputs": [
    {
     "name": "stdout",
     "output_type": "stream",
     "text": [
      "(2, 3) ('Boson', 'Higgs', 1.56e-22)\n"
     ]
    }
   ],
   "source": [
    "a = (2, 3)\n",
    "b = (\"Boson\", \"Higgs\", 1.56e-22)\n",
    "\n",
    "print(a, b)"
   ]
  },
  {
   "cell_type": "markdown",
   "metadata": {},
   "source": [
    "### Named Tuple\n",
    "Subclass of tuple with named elements"
   ]
  },
  {
   "cell_type": "code",
   "execution_count": 1,
   "metadata": {},
   "outputs": [
    {
     "name": "stdout",
     "output_type": "stream",
     "text": [
      "rectangle(length=1, width=2)\n",
      "1\n",
      "2\n",
      "('length', 'width')\n"
     ]
    }
   ],
   "source": [
    "from collections import namedtuple\n",
    "\n",
    "rectangle = namedtuple('rectangle', 'length width')\n",
    "r = rectangle(length = 1, width = 2)\n",
    "\n",
    "print(r)\n",
    "print(r.length)\n",
    "print(r.width)\n",
    "print(r._fields)"
   ]
  },
  {
   "cell_type": "markdown",
   "metadata": {},
   "source": [
    "### Enum"
   ]
  },
  {
   "cell_type": "code",
   "execution_count": 42,
   "metadata": {},
   "outputs": [
    {
     "name": "stdout",
     "output_type": "stream",
     "text": [
      "Currency.us_dollar\n",
      "Currency.us_dollar\n",
      "Currency.us_dollar\n",
      "us_dollar\n",
      "2\n",
      "[<Currency.euro: 1>, <Currency.us_dollar: 2>, <Currency.yuan: 3>] \n",
      " ['euro', 'us_dollar', 'yuan'] \n",
      " [1, 2, 3] \n",
      " Currency.us_dollar\n"
     ]
    }
   ],
   "source": [
    "from enum import Enum, auto\n",
    "import random\n",
    "\n",
    "class Currency(Enum):\n",
    "    euro = 1\n",
    "    us_dollar = 2\n",
    "    yuan = auto()\n",
    "\n",
    "# If there are no numeric values before auto(), it returns 1, otherwise it returns an increment of the last numeric value\n",
    "\n",
    "local_currency = Currency.us_dollar  # Returns a member\n",
    "print(local_currency)\n",
    "\n",
    "local_currency = Currency[\"us_dollar\"]  # Returns a member or raises KeyError\n",
    "print(local_currency)\n",
    "\n",
    "local_currency = Currency(2)  # Returns a member or raises ValueError\n",
    "print(local_currency)\n",
    "\n",
    "print(local_currency.name)\n",
    "print(local_currency.value)\n",
    "\n",
    "list_of_members = list(Currency)\n",
    "member_names    = [e.name for e in Currency]\n",
    "member_values   = [e.value for e in Currency]\n",
    "random_member   = random.choice(list(Currency))\n",
    "\n",
    "print(list_of_members, \"\\n\",\n",
    "      member_names, \"\\n\",\n",
    "      member_values, \"\\n\",\n",
    "      random_member)"
   ]
  },
  {
   "cell_type": "markdown",
   "metadata": {},
   "source": [
    "### Dataclass  \n",
    "Decorator that automatically generates init(), repr() and eq() special methods"
   ]
  },
  {
   "cell_type": "code",
   "execution_count": 43,
   "metadata": {},
   "outputs": [
    {
     "name": "stdout",
     "output_type": "stream",
     "text": [
      "Transaction(value=1000000, issuer='Deutsche Bank', dt=datetime.datetime(2022, 1, 1, 12, 0))\n",
      "Transaction(value=1000, issuer='Default Bank', dt=datetime.datetime(2022, 5, 21, 14, 12, 17, 898734))\n"
     ]
    }
   ],
   "source": [
    "from dataclasses import dataclass\n",
    "from decimal import *\n",
    "from datetime import datetime\n",
    "\n",
    "@dataclass\n",
    "class Transaction:\n",
    "    value: Decimal\n",
    "    issuer: str = \"Default Bank\"\n",
    "    dt: datetime = datetime.now()\n",
    "\n",
    "t1 = Transaction(value=1000_000, issuer=\"Deutsche Bank\", dt = datetime(2022, 1, 1, 12))\n",
    "t2 = Transaction(1000)\n",
    "\n",
    "print(t1)\n",
    "print(t2)"
   ]
  },
  {
   "cell_type": "markdown",
   "metadata": {},
   "source": [
    "### Deque\n",
    "A thread-safe list with efficient appends and pops from either side."
   ]
  },
  {
   "cell_type": "code",
   "execution_count": 95,
   "metadata": {},
   "outputs": [
    {
     "name": "stdout",
     "output_type": "stream",
     "text": [
      "deque([-2, -1, 0, 1, 2, 3, 4, 5, 6, 7], maxlen=1000)\n",
      "7 -2\n",
      "deque([-1, 0, 1, 2, 3, 4, 5, 6], maxlen=1000)\n"
     ]
    }
   ],
   "source": [
    "from collections import deque\n",
    "d = deque([1, 2, 3, 4], maxlen=1000)\n",
    "\n",
    "d.append(5)  # Add element to the right side of the deque\n",
    "d.appendleft(0)  # Add element to the left side of the deque by appending elements from iterable\n",
    "\n",
    "d.extend([6, 7])  # Extend the right side of the deque\n",
    "d.extendleft([-1, -2])  # Extend the left side of the deque\n",
    "print(d)\n",
    "\n",
    "a = d.pop()  # Remove and return an element from the right side of the deque. Can raise an IndexError\n",
    "b = d.popleft()  # Remove and return an element from the left side of the deque. Can raise an IndexError\n",
    "print(a, b)\n",
    "print(d)"
   ]
  },
  {
   "cell_type": "markdown",
   "metadata": {},
   "source": [
    "### Array  \n",
    "Object type that can only hold numbers of a predefined type."
   ]
  },
  {
   "cell_type": "code",
   "execution_count": 96,
   "metadata": {},
   "outputs": [
    {
     "name": "stdout",
     "output_type": "stream",
     "text": [
      "array('l', [1, 2, 3, -4])\n",
      "49\n",
      "b'1234567890'\n"
     ]
    }
   ],
   "source": [
    "from array import array\n",
    "\n",
    "a1 = array(\"l\", [1, 2, 3, -4])  # Array from collection of numbers\n",
    "a2 = array(\"b\", b\"1234567890\")  # Array from bytes object\n",
    "b = bytes(a2)\n",
    "\n",
    "print(a1)\n",
    "print(a2[0])\n",
    "print(b)"
   ]
  },
  {
   "cell_type": "markdown",
   "metadata": {},
   "source": [
    "## Exceptions\n",
    "\n",
    "### Catching exceptions\n",
    "\n",
    "Basic Example"
   ]
  },
  {
   "cell_type": "code",
   "execution_count": 97,
   "metadata": {},
   "outputs": [
    {
     "name": "stdout",
     "output_type": "stream",
     "text": [
      "Error: division by zero\n"
     ]
    }
   ],
   "source": [
    "a: float = 0\n",
    "b: float = 0\n",
    "\n",
    "try:\n",
    "    b: float = 1/a\n",
    "except ZeroDivisionError as e:\n",
    "    print(f\"Error: {e}\")"
   ]
  },
  {
   "cell_type": "markdown",
   "metadata": {},
   "source": [
    "Complex Example.  \n",
    "Code inside the *else* block will only be executed if *try* block had no exceptions.  \n",
    "Code inside the *finally* block will always be executed (unless a signal is received).  "
   ]
  },
  {
   "cell_type": "code",
   "execution_count": 98,
   "metadata": {},
   "outputs": [
    {
     "name": "stdout",
     "output_type": "stream",
     "text": [
      "Error: division by zero\n",
      "This part is always called\n"
     ]
    }
   ],
   "source": [
    "import traceback\n",
    "\n",
    "a: float = 0\n",
    "b: float = 0\n",
    "\n",
    "try:\n",
    "    b: float = 1/a\n",
    "except ZeroDivisionError as e:\n",
    "    print(f\"Error: {e}\")\n",
    "except ArithmeticError as e:\n",
    "    print(f\"We have a bit more complicated problem: {e}\")\n",
    "except Exception as serious_problem:  # Catch all exceptions\n",
    "    print(f\"I don't really know what is going on: {traceback.print_exception(serious_problem)}\")\n",
    "else:\n",
    "    print(\"No errors!\")\n",
    "finally:\n",
    "    print(\"This part is always called\")"
   ]
  },
  {
   "cell_type": "markdown",
   "metadata": {},
   "source": [
    "### Raising Exceptions"
   ]
  },
  {
   "cell_type": "code",
   "execution_count": 99,
   "metadata": {},
   "outputs": [
    {
     "name": "stdout",
     "output_type": "stream",
     "text": [
      "We have ValueError, as a planned!\n"
     ]
    }
   ],
   "source": [
    "def div(a: Decimal, b: Decimal) -> Decimal:\n",
    "    if b == 0:\n",
    "        raise ValueError(\"Second argument must be non-zero\")\n",
    "    return a/b\n",
    "\n",
    "\n",
    "try:\n",
    "    c: Decimal = div(1, 0)\n",
    "except ValueError:\n",
    "    print(\"We have ValueError, as a planned!\")\n",
    "    # raise # We can re-raise exception"
   ]
  },
  {
   "cell_type": "markdown",
   "metadata": {},
   "source": [
    "### Built-in Exceptions\n",
    "```text\n",
    "BaseException\n",
    " +-- SystemExit                   # Raised by the sys.exit() function\n",
    " +-- KeyboardInterrupt            # Raised when the user press the interrupt key (ctrl-c)\n",
    " +-- Exception                    # User-defined exceptions should be derived from this class\n",
    "      +-- ArithmeticError         # Base class for arithmetic errors\n",
    "      |    +-- ZeroDivisionError  # Dividing by zero\n",
    "      +-- AttributeError          # Attribute is missing\n",
    "      +-- EOFError                # Raised by input() when it hits end-of-file condition\n",
    "      +-- LookupError             # Raised when a look-up on a collection fails\n",
    "      |    +-- IndexError         # A sequence index is out of range\n",
    "      |    +-- KeyError           # A dictionary key or set element is missing\n",
    "      +-- NameError               # An object is missing\n",
    "      +-- OSError                 # Errors such as “file not found”\n",
    "      |    +-- FileNotFoundError  # File or directory is requested but doesn't exist\n",
    "      +-- RuntimeError            # Error that don't fall into other categories\n",
    "      |    +-- RecursionError     # Maximum recursion depth is exceeded\n",
    "      +-- StopIteration           # Raised by next() when run on an empty iterator\n",
    "      +-- TypeError               # An argument is of wrong type\n",
    "      +-- ValueError              # When an argument is of right type but inappropriate value\n",
    "           +-- UnicodeError       # Encoding/decoding strings to/from bytes fails\n",
    "```"
   ]
  },
  {
   "cell_type": "markdown",
   "metadata": {},
   "source": [
    "### Exits by raising SystemExit exception"
   ]
  },
  {
   "cell_type": "code",
   "execution_count": 2,
   "metadata": {},
   "outputs": [],
   "source": [
    "import sys\n",
    "\n",
    "# sys.exit()  # Exits with exit code 0 (success)\n",
    "# sys.exit(777)  # Exits with passed exit code"
   ]
  },
  {
   "cell_type": "markdown",
   "metadata": {},
   "source": [
    "### User-defined Exceptions"
   ]
  },
  {
   "cell_type": "code",
   "execution_count": 3,
   "metadata": {},
   "outputs": [
    {
     "ename": "MyException",
     "evalue": "My car is broken",
     "output_type": "error",
     "traceback": [
      "\u001b[1;31m---------------------------------------------------------------------------\u001b[0m",
      "\u001b[1;31mMyException\u001b[0m                               Traceback (most recent call last)",
      "\u001b[1;32mc:\\Works\\amaargiru\\pycs\\PYCS.ipynb Cell 27'\u001b[0m in \u001b[0;36m<cell line: 4>\u001b[1;34m()\u001b[0m\n\u001b[0;32m      <a href='vscode-notebook-cell:/c%3A/Works/amaargiru/pycs/PYCS.ipynb#ch0000026?line=0'>1</a>\u001b[0m \u001b[39mclass\u001b[39;00m \u001b[39mMyException\u001b[39;00m(\u001b[39mException\u001b[39;00m):\n\u001b[0;32m      <a href='vscode-notebook-cell:/c%3A/Works/amaargiru/pycs/PYCS.ipynb#ch0000026?line=1'>2</a>\u001b[0m     \u001b[39mpass\u001b[39;00m\n\u001b[1;32m----> <a href='vscode-notebook-cell:/c%3A/Works/amaargiru/pycs/PYCS.ipynb#ch0000026?line=3'>4</a>\u001b[0m \u001b[39mraise\u001b[39;00m MyException(\u001b[39m\"\u001b[39m\u001b[39mMy car is broken\u001b[39m\u001b[39m\"\u001b[39m)\n",
      "\u001b[1;31mMyException\u001b[0m: My car is broken"
     ]
    }
   ],
   "source": [
    "class MyException(Exception):\n",
    "    pass\n",
    "\n",
    "raise MyException(\"My car is broken\")"
   ]
  },
  {
   "cell_type": "markdown",
   "metadata": {},
   "source": [
    "## Math\n",
    "\n",
    "### Bitwise Operators"
   ]
  },
  {
   "cell_type": "code",
   "execution_count": null,
   "metadata": {},
   "outputs": [
    {
     "name": "stdout",
     "output_type": "stream",
     "text": [
      "And: 0b00000000\n",
      "Or: 0b11111111\n",
      "Xor: 0b11111111\n",
      "Left shift: 0b10101010000\n",
      "Right shift: 0b00001010\n",
      "Not: 0b-1010110\n"
     ]
    }
   ],
   "source": [
    "a: int = 0b01010101\n",
    "b: int = 0b10101010\n",
    "\n",
    "print(f\"And: 0b{a&b:08b}\")\n",
    "print(f\"Or: 0b{a|b:08b}\")\n",
    "print(f\"Xor: 0b{a^b:08b}\")\n",
    "print(f\"Left shift: 0b{a << 4:08b}\")\n",
    "print(f\"Right shift: 0b{b >> 4:08b}\")\n",
    "print(f\"Not: 0b{~a:08b}\")"
   ]
  },
  {
   "cell_type": "markdown",
   "metadata": {},
   "source": [
    "## Sources  \n",
    "[docs.python.org](https://docs.python.org/)  \n",
    "[Python Cheatsheet](https://github.com/gto76/python-cheatsheet)"
   ]
  }
 ],
 "metadata": {
  "interpreter": {
   "hash": "26de051ba29f2982a8de78e945f0abaf191376122a1563185a90213a26c5da77"
  },
  "kernelspec": {
   "display_name": "Python 3.10.0 64-bit",
   "language": "python",
   "name": "python3"
  },
  "language_info": {
   "codemirror_mode": {
    "name": "ipython",
    "version": 3
   },
   "file_extension": ".py",
   "mimetype": "text/x-python",
   "name": "python",
   "nbconvert_exporter": "python",
   "pygments_lexer": "ipython3",
   "version": "3.10.0"
  },
  "orig_nbformat": 4
 },
 "nbformat": 4,
 "nbformat_minor": 2
}
